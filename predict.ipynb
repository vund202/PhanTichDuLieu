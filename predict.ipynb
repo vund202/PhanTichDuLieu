{
  "cells": [
    {
      "cell_type": "code",
      "execution_count": 1,
      "metadata": {
        "id": "r-gIZ7owVV2x"
      },
      "outputs": [],
      "source": [
        "import pandas as pd\n",
        "import numpy as np\n",
        "import matplotlib.pyplot as plt\n",
        "from sklearn.preprocessing import MinMaxScaler\n",
        "from sklearn.model_selection import train_test_split\n",
        "from keras.models import Sequential\n",
        "from keras.layers import LSTM, Dense\n",
        "from sklearn.metrics import mean_squared_error, mean_absolute_error, r2_score\n",
        "from keras.models import load_model\n",
        "\n"
      ]
    },
    {
      "cell_type": "code",
      "execution_count": 2,
      "metadata": {
        "id": "GEvk1reKV6pH"
      },
      "outputs": [],
      "source": [
        "df=pd.read_csv('CSV/Google.csv')\n",
        "df['Date']=pd.to_datetime(df['Date'])\n"
      ]
    },
    {
      "cell_type": "code",
      "execution_count": 3,
      "metadata": {
        "colab": {
          "base_uri": "https://localhost:8080/"
        },
        "id": "ocuFh9_-WBQP",
        "outputId": "296e72c0-0f48-4570-cfca-ab3cbd0ab47b"
      },
      "outputs": [
        {
          "name": "stdout",
          "output_type": "stream",
          "text": [
            "<class 'pandas.core.frame.DataFrame'>\n",
            "RangeIndex: 1761 entries, 0 to 1760\n",
            "Data columns (total 7 columns):\n",
            " #   Column     Non-Null Count  Dtype         \n",
            "---  ------     --------------  -----         \n",
            " 0   Date       1761 non-null   datetime64[ns]\n",
            " 1   Open       1761 non-null   float64       \n",
            " 2   High       1761 non-null   float64       \n",
            " 3   Low        1761 non-null   float64       \n",
            " 4   Close      1761 non-null   float64       \n",
            " 5   Adj Close  1761 non-null   float64       \n",
            " 6   Volume     1761 non-null   int64         \n",
            "dtypes: datetime64[ns](1), float64(5), int64(1)\n",
            "memory usage: 96.4 KB\n"
          ]
        }
      ],
      "source": [
        "df.info()"
      ]
    },
    {
      "cell_type": "code",
      "execution_count": null,
      "metadata": {},
      "outputs": [],
      "source": []
    },
    {
      "cell_type": "code",
      "execution_count": 4,
      "metadata": {
        "id": "aJOULjTBWDJf"
      },
      "outputs": [
        {
          "data": {
            "text/plain": [
              "array([[0.01275147],\n",
              "       [0.00842718],\n",
              "       [0.0037195 ],\n",
              "       ...,\n",
              "       [0.97903276],\n",
              "       [0.96622247],\n",
              "       [0.96667041]])"
            ]
          },
          "execution_count": 4,
          "metadata": {},
          "output_type": "execute_result"
        }
      ],
      "source": [
        "#Chuẩn hoá dữ liệu\n",
        "scaler = MinMaxScaler(feature_range=(0, 1))\n",
        "scaled_data = scaler.fit_transform(df['Close'].values.reshape(-1, 1))\n",
        "scaled_data"
      ]
    },
    {
      "cell_type": "code",
      "execution_count": 5,
      "metadata": {},
      "outputs": [],
      "source": [
        "#Tạo tập train và test\n",
        "X = scaled_data\n",
        "y = scaled_data\n",
        "\n",
        "X = np.reshape(X, (X.shape[0], 1, X.shape[1])) \n",
        "\n",
        "X_train, X_test, y_train, y_test = train_test_split(X, y, test_size=0.2, random_state=42)\n"
      ]
    },
    {
      "cell_type": "code",
      "execution_count": 6,
      "metadata": {},
      "outputs": [
        {
          "name": "stderr",
          "output_type": "stream",
          "text": [
            "d:\\Python\\Lib\\site-packages\\keras\\src\\layers\\rnn\\rnn.py:204: UserWarning: Do not pass an `input_shape`/`input_dim` argument to a layer. When using Sequential models, prefer using an `Input(shape)` object as the first layer in the model instead.\n",
            "  super().__init__(**kwargs)\n"
          ]
        }
      ],
      "source": [
        "model=Sequential(\n",
        "[\n",
        "    LSTM(units=60,input_shape=(X.shape[1],1),return_sequences=True),\n",
        "    LSTM(units=50,return_sequences=True),\n",
        "    LSTM(units=30,return_sequences=True),\n",
        "    LSTM(units=20,return_sequences=True),\n",
        "    LSTM(10),\n",
        "    Dense(units=1),\n",
        "])"
      ]
    },
    {
      "cell_type": "code",
      "execution_count": 7,
      "metadata": {},
      "outputs": [
        {
          "data": {
            "text/html": [
              "<pre style=\"white-space:pre;overflow-x:auto;line-height:normal;font-family:Menlo,'DejaVu Sans Mono',consolas,'Courier New',monospace\"><span style=\"font-weight: bold\">Model: \"sequential\"</span>\n",
              "</pre>\n"
            ],
            "text/plain": [
              "\u001b[1mModel: \"sequential\"\u001b[0m\n"
            ]
          },
          "metadata": {},
          "output_type": "display_data"
        },
        {
          "data": {
            "text/html": [
              "<pre style=\"white-space:pre;overflow-x:auto;line-height:normal;font-family:Menlo,'DejaVu Sans Mono',consolas,'Courier New',monospace\">┏━━━━━━━━━━━━━━━━━━━━━━━━━━━━━━━━━┳━━━━━━━━━━━━━━━━━━━━━━━━┳━━━━━━━━━━━━━━━┓\n",
              "┃<span style=\"font-weight: bold\"> Layer (type)                    </span>┃<span style=\"font-weight: bold\"> Output Shape           </span>┃<span style=\"font-weight: bold\">       Param # </span>┃\n",
              "┡━━━━━━━━━━━━━━━━━━━━━━━━━━━━━━━━━╇━━━━━━━━━━━━━━━━━━━━━━━━╇━━━━━━━━━━━━━━━┩\n",
              "│ lstm (<span style=\"color: #0087ff; text-decoration-color: #0087ff\">LSTM</span>)                     │ (<span style=\"color: #00d7ff; text-decoration-color: #00d7ff\">None</span>, <span style=\"color: #00af00; text-decoration-color: #00af00\">1</span>, <span style=\"color: #00af00; text-decoration-color: #00af00\">60</span>)          │        <span style=\"color: #00af00; text-decoration-color: #00af00\">14,880</span> │\n",
              "├─────────────────────────────────┼────────────────────────┼───────────────┤\n",
              "│ lstm_1 (<span style=\"color: #0087ff; text-decoration-color: #0087ff\">LSTM</span>)                   │ (<span style=\"color: #00d7ff; text-decoration-color: #00d7ff\">None</span>, <span style=\"color: #00af00; text-decoration-color: #00af00\">1</span>, <span style=\"color: #00af00; text-decoration-color: #00af00\">50</span>)          │        <span style=\"color: #00af00; text-decoration-color: #00af00\">22,200</span> │\n",
              "├─────────────────────────────────┼────────────────────────┼───────────────┤\n",
              "│ lstm_2 (<span style=\"color: #0087ff; text-decoration-color: #0087ff\">LSTM</span>)                   │ (<span style=\"color: #00d7ff; text-decoration-color: #00d7ff\">None</span>, <span style=\"color: #00af00; text-decoration-color: #00af00\">1</span>, <span style=\"color: #00af00; text-decoration-color: #00af00\">30</span>)          │         <span style=\"color: #00af00; text-decoration-color: #00af00\">9,720</span> │\n",
              "├─────────────────────────────────┼────────────────────────┼───────────────┤\n",
              "│ lstm_3 (<span style=\"color: #0087ff; text-decoration-color: #0087ff\">LSTM</span>)                   │ (<span style=\"color: #00d7ff; text-decoration-color: #00d7ff\">None</span>, <span style=\"color: #00af00; text-decoration-color: #00af00\">1</span>, <span style=\"color: #00af00; text-decoration-color: #00af00\">20</span>)          │         <span style=\"color: #00af00; text-decoration-color: #00af00\">4,080</span> │\n",
              "├─────────────────────────────────┼────────────────────────┼───────────────┤\n",
              "│ lstm_4 (<span style=\"color: #0087ff; text-decoration-color: #0087ff\">LSTM</span>)                   │ (<span style=\"color: #00d7ff; text-decoration-color: #00d7ff\">None</span>, <span style=\"color: #00af00; text-decoration-color: #00af00\">10</span>)             │         <span style=\"color: #00af00; text-decoration-color: #00af00\">1,240</span> │\n",
              "├─────────────────────────────────┼────────────────────────┼───────────────┤\n",
              "│ dense (<span style=\"color: #0087ff; text-decoration-color: #0087ff\">Dense</span>)                   │ (<span style=\"color: #00d7ff; text-decoration-color: #00d7ff\">None</span>, <span style=\"color: #00af00; text-decoration-color: #00af00\">1</span>)              │            <span style=\"color: #00af00; text-decoration-color: #00af00\">11</span> │\n",
              "└─────────────────────────────────┴────────────────────────┴───────────────┘\n",
              "</pre>\n"
            ],
            "text/plain": [
              "┏━━━━━━━━━━━━━━━━━━━━━━━━━━━━━━━━━┳━━━━━━━━━━━━━━━━━━━━━━━━┳━━━━━━━━━━━━━━━┓\n",
              "┃\u001b[1m \u001b[0m\u001b[1mLayer (type)                   \u001b[0m\u001b[1m \u001b[0m┃\u001b[1m \u001b[0m\u001b[1mOutput Shape          \u001b[0m\u001b[1m \u001b[0m┃\u001b[1m \u001b[0m\u001b[1m      Param #\u001b[0m\u001b[1m \u001b[0m┃\n",
              "┡━━━━━━━━━━━━━━━━━━━━━━━━━━━━━━━━━╇━━━━━━━━━━━━━━━━━━━━━━━━╇━━━━━━━━━━━━━━━┩\n",
              "│ lstm (\u001b[38;5;33mLSTM\u001b[0m)                     │ (\u001b[38;5;45mNone\u001b[0m, \u001b[38;5;34m1\u001b[0m, \u001b[38;5;34m60\u001b[0m)          │        \u001b[38;5;34m14,880\u001b[0m │\n",
              "├─────────────────────────────────┼────────────────────────┼───────────────┤\n",
              "│ lstm_1 (\u001b[38;5;33mLSTM\u001b[0m)                   │ (\u001b[38;5;45mNone\u001b[0m, \u001b[38;5;34m1\u001b[0m, \u001b[38;5;34m50\u001b[0m)          │        \u001b[38;5;34m22,200\u001b[0m │\n",
              "├─────────────────────────────────┼────────────────────────┼───────────────┤\n",
              "│ lstm_2 (\u001b[38;5;33mLSTM\u001b[0m)                   │ (\u001b[38;5;45mNone\u001b[0m, \u001b[38;5;34m1\u001b[0m, \u001b[38;5;34m30\u001b[0m)          │         \u001b[38;5;34m9,720\u001b[0m │\n",
              "├─────────────────────────────────┼────────────────────────┼───────────────┤\n",
              "│ lstm_3 (\u001b[38;5;33mLSTM\u001b[0m)                   │ (\u001b[38;5;45mNone\u001b[0m, \u001b[38;5;34m1\u001b[0m, \u001b[38;5;34m20\u001b[0m)          │         \u001b[38;5;34m4,080\u001b[0m │\n",
              "├─────────────────────────────────┼────────────────────────┼───────────────┤\n",
              "│ lstm_4 (\u001b[38;5;33mLSTM\u001b[0m)                   │ (\u001b[38;5;45mNone\u001b[0m, \u001b[38;5;34m10\u001b[0m)             │         \u001b[38;5;34m1,240\u001b[0m │\n",
              "├─────────────────────────────────┼────────────────────────┼───────────────┤\n",
              "│ dense (\u001b[38;5;33mDense\u001b[0m)                   │ (\u001b[38;5;45mNone\u001b[0m, \u001b[38;5;34m1\u001b[0m)              │            \u001b[38;5;34m11\u001b[0m │\n",
              "└─────────────────────────────────┴────────────────────────┴───────────────┘\n"
            ]
          },
          "metadata": {},
          "output_type": "display_data"
        },
        {
          "data": {
            "text/html": [
              "<pre style=\"white-space:pre;overflow-x:auto;line-height:normal;font-family:Menlo,'DejaVu Sans Mono',consolas,'Courier New',monospace\"><span style=\"font-weight: bold\"> Total params: </span><span style=\"color: #00af00; text-decoration-color: #00af00\">52,131</span> (203.64 KB)\n",
              "</pre>\n"
            ],
            "text/plain": [
              "\u001b[1m Total params: \u001b[0m\u001b[38;5;34m52,131\u001b[0m (203.64 KB)\n"
            ]
          },
          "metadata": {},
          "output_type": "display_data"
        },
        {
          "data": {
            "text/html": [
              "<pre style=\"white-space:pre;overflow-x:auto;line-height:normal;font-family:Menlo,'DejaVu Sans Mono',consolas,'Courier New',monospace\"><span style=\"font-weight: bold\"> Trainable params: </span><span style=\"color: #00af00; text-decoration-color: #00af00\">52,131</span> (203.64 KB)\n",
              "</pre>\n"
            ],
            "text/plain": [
              "\u001b[1m Trainable params: \u001b[0m\u001b[38;5;34m52,131\u001b[0m (203.64 KB)\n"
            ]
          },
          "metadata": {},
          "output_type": "display_data"
        },
        {
          "data": {
            "text/html": [
              "<pre style=\"white-space:pre;overflow-x:auto;line-height:normal;font-family:Menlo,'DejaVu Sans Mono',consolas,'Courier New',monospace\"><span style=\"font-weight: bold\"> Non-trainable params: </span><span style=\"color: #00af00; text-decoration-color: #00af00\">0</span> (0.00 B)\n",
              "</pre>\n"
            ],
            "text/plain": [
              "\u001b[1m Non-trainable params: \u001b[0m\u001b[38;5;34m0\u001b[0m (0.00 B)\n"
            ]
          },
          "metadata": {},
          "output_type": "display_data"
        }
      ],
      "source": [
        "model.summary()"
      ]
    },
    {
      "cell_type": "code",
      "execution_count": 8,
      "metadata": {},
      "outputs": [],
      "source": [
        "model.compile(optimizer = \"adam\",loss='mean_squared_error')\n"
      ]
    },
    {
      "cell_type": "code",
      "execution_count": 9,
      "metadata": {},
      "outputs": [
        {
          "name": "stdout",
          "output_type": "stream",
          "text": [
            "Epoch 1/50\n",
            "1408/1408 - 10s - 7ms/step - loss: 0.0098\n",
            "Epoch 2/50\n",
            "1408/1408 - 4s - 3ms/step - loss: 4.0154e-04\n",
            "Epoch 3/50\n",
            "1408/1408 - 3s - 2ms/step - loss: 3.1733e-04\n",
            "Epoch 4/50\n",
            "1408/1408 - 4s - 3ms/step - loss: 3.7046e-04\n",
            "Epoch 5/50\n",
            "1408/1408 - 4s - 3ms/step - loss: 1.7551e-04\n",
            "Epoch 6/50\n",
            "1408/1408 - 3s - 2ms/step - loss: 1.1384e-04\n",
            "Epoch 7/50\n",
            "1408/1408 - 4s - 3ms/step - loss: 1.8752e-04\n",
            "Epoch 8/50\n",
            "1408/1408 - 4s - 3ms/step - loss: 1.0532e-04\n",
            "Epoch 9/50\n",
            "1408/1408 - 4s - 3ms/step - loss: 1.8188e-04\n",
            "Epoch 10/50\n",
            "1408/1408 - 3s - 2ms/step - loss: 6.0252e-05\n",
            "Epoch 11/50\n",
            "1408/1408 - 4s - 3ms/step - loss: 2.3433e-04\n",
            "Epoch 12/50\n",
            "1408/1408 - 3s - 2ms/step - loss: 1.5770e-04\n",
            "Epoch 13/50\n",
            "1408/1408 - 4s - 3ms/step - loss: 6.6497e-05\n",
            "Epoch 14/50\n",
            "1408/1408 - 4s - 3ms/step - loss: 1.4725e-04\n",
            "Epoch 15/50\n",
            "1408/1408 - 3s - 2ms/step - loss: 1.6598e-04\n",
            "Epoch 16/50\n",
            "1408/1408 - 3s - 2ms/step - loss: 7.1796e-05\n",
            "Epoch 17/50\n",
            "1408/1408 - 4s - 2ms/step - loss: 9.9319e-05\n",
            "Epoch 18/50\n",
            "1408/1408 - 4s - 3ms/step - loss: 1.1390e-04\n",
            "Epoch 19/50\n",
            "1408/1408 - 4s - 3ms/step - loss: 1.2155e-04\n",
            "Epoch 20/50\n",
            "1408/1408 - 3s - 2ms/step - loss: 9.2958e-05\n",
            "Epoch 21/50\n",
            "1408/1408 - 4s - 3ms/step - loss: 1.3967e-04\n",
            "Epoch 22/50\n",
            "1408/1408 - 4s - 3ms/step - loss: 1.3412e-04\n",
            "Epoch 23/50\n",
            "1408/1408 - 4s - 3ms/step - loss: 9.6255e-05\n",
            "Epoch 24/50\n",
            "1408/1408 - 4s - 3ms/step - loss: 1.2145e-04\n",
            "Epoch 25/50\n",
            "1408/1408 - 4s - 2ms/step - loss: 8.9549e-05\n",
            "Epoch 26/50\n",
            "1408/1408 - 4s - 3ms/step - loss: 1.6664e-04\n",
            "Epoch 27/50\n",
            "1408/1408 - 4s - 3ms/step - loss: 1.6397e-04\n",
            "Epoch 28/50\n",
            "1408/1408 - 4s - 3ms/step - loss: 1.0634e-04\n",
            "Epoch 29/50\n",
            "1408/1408 - 4s - 3ms/step - loss: 7.4668e-05\n",
            "Epoch 30/50\n",
            "1408/1408 - 4s - 2ms/step - loss: 6.9070e-05\n",
            "Epoch 31/50\n",
            "1408/1408 - 4s - 2ms/step - loss: 9.3219e-05\n",
            "Epoch 32/50\n",
            "1408/1408 - 4s - 3ms/step - loss: 1.8264e-04\n",
            "Epoch 33/50\n",
            "1408/1408 - 4s - 3ms/step - loss: 3.9728e-05\n",
            "Epoch 34/50\n",
            "1408/1408 - 4s - 3ms/step - loss: 7.4576e-05\n",
            "Epoch 35/50\n",
            "1408/1408 - 4s - 3ms/step - loss: 1.1191e-04\n",
            "Epoch 36/50\n",
            "1408/1408 - 4s - 3ms/step - loss: 6.2244e-05\n",
            "Epoch 37/50\n",
            "1408/1408 - 4s - 2ms/step - loss: 8.7623e-05\n",
            "Epoch 38/50\n",
            "1408/1408 - 3s - 2ms/step - loss: 7.1956e-05\n",
            "Epoch 39/50\n",
            "1408/1408 - 4s - 3ms/step - loss: 6.7143e-05\n",
            "Epoch 40/50\n",
            "1408/1408 - 4s - 3ms/step - loss: 1.6072e-04\n",
            "Epoch 41/50\n",
            "1408/1408 - 5s - 3ms/step - loss: 6.4497e-05\n",
            "Epoch 42/50\n",
            "1408/1408 - 4s - 3ms/step - loss: 5.1801e-05\n",
            "Epoch 43/50\n",
            "1408/1408 - 4s - 3ms/step - loss: 8.3109e-05\n",
            "Epoch 44/50\n",
            "1408/1408 - 4s - 3ms/step - loss: 1.0709e-04\n",
            "Epoch 45/50\n",
            "1408/1408 - 4s - 3ms/step - loss: 4.6888e-05\n",
            "Epoch 46/50\n",
            "1408/1408 - 3s - 2ms/step - loss: 5.8870e-05\n",
            "Epoch 47/50\n",
            "1408/1408 - 4s - 3ms/step - loss: 1.4398e-04\n",
            "Epoch 48/50\n",
            "1408/1408 - 4s - 3ms/step - loss: 2.4718e-05\n",
            "Epoch 49/50\n",
            "1408/1408 - 4s - 3ms/step - loss: 6.2709e-05\n",
            "Epoch 50/50\n",
            "1408/1408 - 4s - 3ms/step - loss: 4.8810e-05\n"
          ]
        },
        {
          "data": {
            "text/plain": [
              "<keras.src.callbacks.history.History at 0x1dd8a1a0f50>"
            ]
          },
          "execution_count": 9,
          "metadata": {},
          "output_type": "execute_result"
        }
      ],
      "source": [
        "model.fit(X_train, y_train, epochs=50, batch_size=1, verbose=2)\n"
      ]
    },
    {
      "cell_type": "code",
      "execution_count": null,
      "metadata": {},
      "outputs": [],
      "source": []
    },
    {
      "cell_type": "code",
      "execution_count": 10,
      "metadata": {},
      "outputs": [],
      "source": [
        "#model.save('lstm_model.h5')"
      ]
    },
    {
      "cell_type": "code",
      "execution_count": 11,
      "metadata": {},
      "outputs": [],
      "source": [
        "loaded_model = load_model('lstm_model.h5')"
      ]
    },
    {
      "cell_type": "code",
      "execution_count": 12,
      "metadata": {},
      "outputs": [
        {
          "ename": "NameError",
          "evalue": "name 'loaded_model' is not defined",
          "output_type": "error",
          "traceback": [
            "\u001b[1;31m---------------------------------------------------------------------------\u001b[0m",
            "\u001b[1;31mNameError\u001b[0m                                 Traceback (most recent call last)",
            "Cell \u001b[1;32mIn[12], line 4\u001b[0m\n\u001b[0;32m      1\u001b[0m \u001b[39mimport\u001b[39;00m \u001b[39mmatplotlib\u001b[39;00m\u001b[39m.\u001b[39;00m\u001b[39mpyplot\u001b[39;00m \u001b[39mas\u001b[39;00m \u001b[39mplt\u001b[39;00m\n\u001b[0;32m      3\u001b[0m \u001b[39m# Dự Đoán\u001b[39;00m\n\u001b[1;32m----> 4\u001b[0m predictions \u001b[39m=\u001b[39m loaded_model\u001b[39m.\u001b[39mpredict(X)\n\u001b[0;32m      6\u001b[0m \u001b[39m# Chuyển dữ liệu về ban đầu\u001b[39;00m\n\u001b[0;32m      7\u001b[0m predictions \u001b[39m=\u001b[39m scaler\u001b[39m.\u001b[39minverse_transform(predictions)\n",
            "\u001b[1;31mNameError\u001b[0m: name 'loaded_model' is not defined"
          ]
        }
      ],
      "source": [
        "import matplotlib.pyplot as plt\n",
        "\n",
        "# Dự Đoán\n",
        "predictions = loaded_model.predict(X)\n",
        "\n",
        "# Chuyển dữ liệu về ban đầu\n",
        "predictions = scaler.inverse_transform(predictions)\n",
        "y_actual = scaler.inverse_transform(y)\n",
        "\n",
        "# Vẽ biểu đồ\n",
        "plt.figure(figsize=(14, 7))\n",
        "plt.plot(df['Date'], y_actual, label='Actual', color='blue')\n",
        "plt.plot(df['Date'], predictions, label='Predicted', color='red')\n",
        "plt.xlabel('Date')\n",
        "plt.ylabel('Confirmed Cases')\n",
        "plt.title('Actual vs Predicted Stock By LTSM')\n",
        "plt.legend()\n",
        "plt.show()\n",
        "\n",
        "# Đánh giá mô hình\n",
        "mse = mean_squared_error(y_actual, predictions)\n",
        "rmse = np.sqrt(mse)\n",
        "mae = mean_absolute_error(y_actual, predictions)\n",
        "r2 = r2_score(y_actual, predictions)\n",
        "\n",
        "# In kết quả đánh giá\n",
        "print(\"Mean Squared Error (MSE): \", mse)\n",
        "print(\"Root Mean Squared Error (RMSE): \", rmse)\n",
        "print(\"Mean Absolute Error (MAE): \", mae)\n",
        "print(\"R2 Score: \", r2)\n"
      ]
    },
    {
      "cell_type": "markdown",
      "metadata": {},
      "source": [
        "### RNN"
      ]
    },
    {
      "cell_type": "code",
      "execution_count": null,
      "metadata": {},
      "outputs": [
        {
          "name": "stderr",
          "output_type": "stream",
          "text": [
            "d:\\Python\\Lib\\site-packages\\keras\\src\\layers\\rnn\\rnn.py:204: UserWarning: Do not pass an `input_shape`/`input_dim` argument to a layer. When using Sequential models, prefer using an `Input(shape)` object as the first layer in the model instead.\n",
            "  super().__init__(**kwargs)\n"
          ]
        }
      ],
      "source": [
        "from tensorflow.keras.models import Sequential\n",
        "from tensorflow.keras.layers import Dense, SimpleRNN\n",
        "Model3 = Sequential(\n",
        "[\n",
        "    SimpleRNN(units=30, input_shape=(X.shape[1], 1), activation='relu', return_sequences=True),\n",
        "    SimpleRNN(units=20, activation='relu', return_sequences=True),\n",
        "    SimpleRNN(units=10, activation='relu'),\n",
        "    Dense(units=1)\n",
        "])"
      ]
    },
    {
      "cell_type": "code",
      "execution_count": null,
      "metadata": {},
      "outputs": [
        {
          "data": {
            "text/html": [
              "<pre style=\"white-space:pre;overflow-x:auto;line-height:normal;font-family:Menlo,'DejaVu Sans Mono',consolas,'Courier New',monospace\"><span style=\"font-weight: bold\">Model: \"sequential_1\"</span>\n",
              "</pre>\n"
            ],
            "text/plain": [
              "\u001b[1mModel: \"sequential_1\"\u001b[0m\n"
            ]
          },
          "metadata": {},
          "output_type": "display_data"
        },
        {
          "data": {
            "text/html": [
              "<pre style=\"white-space:pre;overflow-x:auto;line-height:normal;font-family:Menlo,'DejaVu Sans Mono',consolas,'Courier New',monospace\">┏━━━━━━━━━━━━━━━━━━━━━━━━━━━━━━━━━┳━━━━━━━━━━━━━━━━━━━━━━━━┳━━━━━━━━━━━━━━━┓\n",
              "┃<span style=\"font-weight: bold\"> Layer (type)                    </span>┃<span style=\"font-weight: bold\"> Output Shape           </span>┃<span style=\"font-weight: bold\">       Param # </span>┃\n",
              "┡━━━━━━━━━━━━━━━━━━━━━━━━━━━━━━━━━╇━━━━━━━━━━━━━━━━━━━━━━━━╇━━━━━━━━━━━━━━━┩\n",
              "│ simple_rnn (<span style=\"color: #0087ff; text-decoration-color: #0087ff\">SimpleRNN</span>)          │ (<span style=\"color: #00d7ff; text-decoration-color: #00d7ff\">None</span>, <span style=\"color: #00af00; text-decoration-color: #00af00\">1</span>, <span style=\"color: #00af00; text-decoration-color: #00af00\">30</span>)          │           <span style=\"color: #00af00; text-decoration-color: #00af00\">960</span> │\n",
              "├─────────────────────────────────┼────────────────────────┼───────────────┤\n",
              "│ simple_rnn_1 (<span style=\"color: #0087ff; text-decoration-color: #0087ff\">SimpleRNN</span>)        │ (<span style=\"color: #00d7ff; text-decoration-color: #00d7ff\">None</span>, <span style=\"color: #00af00; text-decoration-color: #00af00\">1</span>, <span style=\"color: #00af00; text-decoration-color: #00af00\">20</span>)          │         <span style=\"color: #00af00; text-decoration-color: #00af00\">1,020</span> │\n",
              "├─────────────────────────────────┼────────────────────────┼───────────────┤\n",
              "│ simple_rnn_2 (<span style=\"color: #0087ff; text-decoration-color: #0087ff\">SimpleRNN</span>)        │ (<span style=\"color: #00d7ff; text-decoration-color: #00d7ff\">None</span>, <span style=\"color: #00af00; text-decoration-color: #00af00\">10</span>)             │           <span style=\"color: #00af00; text-decoration-color: #00af00\">310</span> │\n",
              "├─────────────────────────────────┼────────────────────────┼───────────────┤\n",
              "│ dense_1 (<span style=\"color: #0087ff; text-decoration-color: #0087ff\">Dense</span>)                 │ (<span style=\"color: #00d7ff; text-decoration-color: #00d7ff\">None</span>, <span style=\"color: #00af00; text-decoration-color: #00af00\">1</span>)              │            <span style=\"color: #00af00; text-decoration-color: #00af00\">11</span> │\n",
              "└─────────────────────────────────┴────────────────────────┴───────────────┘\n",
              "</pre>\n"
            ],
            "text/plain": [
              "┏━━━━━━━━━━━━━━━━━━━━━━━━━━━━━━━━━┳━━━━━━━━━━━━━━━━━━━━━━━━┳━━━━━━━━━━━━━━━┓\n",
              "┃\u001b[1m \u001b[0m\u001b[1mLayer (type)                   \u001b[0m\u001b[1m \u001b[0m┃\u001b[1m \u001b[0m\u001b[1mOutput Shape          \u001b[0m\u001b[1m \u001b[0m┃\u001b[1m \u001b[0m\u001b[1m      Param #\u001b[0m\u001b[1m \u001b[0m┃\n",
              "┡━━━━━━━━━━━━━━━━━━━━━━━━━━━━━━━━━╇━━━━━━━━━━━━━━━━━━━━━━━━╇━━━━━━━━━━━━━━━┩\n",
              "│ simple_rnn (\u001b[38;5;33mSimpleRNN\u001b[0m)          │ (\u001b[38;5;45mNone\u001b[0m, \u001b[38;5;34m1\u001b[0m, \u001b[38;5;34m30\u001b[0m)          │           \u001b[38;5;34m960\u001b[0m │\n",
              "├─────────────────────────────────┼────────────────────────┼───────────────┤\n",
              "│ simple_rnn_1 (\u001b[38;5;33mSimpleRNN\u001b[0m)        │ (\u001b[38;5;45mNone\u001b[0m, \u001b[38;5;34m1\u001b[0m, \u001b[38;5;34m20\u001b[0m)          │         \u001b[38;5;34m1,020\u001b[0m │\n",
              "├─────────────────────────────────┼────────────────────────┼───────────────┤\n",
              "│ simple_rnn_2 (\u001b[38;5;33mSimpleRNN\u001b[0m)        │ (\u001b[38;5;45mNone\u001b[0m, \u001b[38;5;34m10\u001b[0m)             │           \u001b[38;5;34m310\u001b[0m │\n",
              "├─────────────────────────────────┼────────────────────────┼───────────────┤\n",
              "│ dense_1 (\u001b[38;5;33mDense\u001b[0m)                 │ (\u001b[38;5;45mNone\u001b[0m, \u001b[38;5;34m1\u001b[0m)              │            \u001b[38;5;34m11\u001b[0m │\n",
              "└─────────────────────────────────┴────────────────────────┴───────────────┘\n"
            ]
          },
          "metadata": {},
          "output_type": "display_data"
        },
        {
          "data": {
            "text/html": [
              "<pre style=\"white-space:pre;overflow-x:auto;line-height:normal;font-family:Menlo,'DejaVu Sans Mono',consolas,'Courier New',monospace\"><span style=\"font-weight: bold\"> Total params: </span><span style=\"color: #00af00; text-decoration-color: #00af00\">2,301</span> (8.99 KB)\n",
              "</pre>\n"
            ],
            "text/plain": [
              "\u001b[1m Total params: \u001b[0m\u001b[38;5;34m2,301\u001b[0m (8.99 KB)\n"
            ]
          },
          "metadata": {},
          "output_type": "display_data"
        },
        {
          "data": {
            "text/html": [
              "<pre style=\"white-space:pre;overflow-x:auto;line-height:normal;font-family:Menlo,'DejaVu Sans Mono',consolas,'Courier New',monospace\"><span style=\"font-weight: bold\"> Trainable params: </span><span style=\"color: #00af00; text-decoration-color: #00af00\">2,301</span> (8.99 KB)\n",
              "</pre>\n"
            ],
            "text/plain": [
              "\u001b[1m Trainable params: \u001b[0m\u001b[38;5;34m2,301\u001b[0m (8.99 KB)\n"
            ]
          },
          "metadata": {},
          "output_type": "display_data"
        },
        {
          "data": {
            "text/html": [
              "<pre style=\"white-space:pre;overflow-x:auto;line-height:normal;font-family:Menlo,'DejaVu Sans Mono',consolas,'Courier New',monospace\"><span style=\"font-weight: bold\"> Non-trainable params: </span><span style=\"color: #00af00; text-decoration-color: #00af00\">0</span> (0.00 B)\n",
              "</pre>\n"
            ],
            "text/plain": [
              "\u001b[1m Non-trainable params: \u001b[0m\u001b[38;5;34m0\u001b[0m (0.00 B)\n"
            ]
          },
          "metadata": {},
          "output_type": "display_data"
        }
      ],
      "source": [
        "Model3.summary()"
      ]
    },
    {
      "cell_type": "code",
      "execution_count": null,
      "metadata": {},
      "outputs": [],
      "source": [
        "Model3.compile(optimizer = \"adam\",loss='mean_squared_error')\n"
      ]
    },
    {
      "cell_type": "code",
      "execution_count": null,
      "metadata": {},
      "outputs": [],
      "source": [
        "#Model3.fit(X_train, y_train, epochs=50, batch_size=1, verbose=2)\n"
      ]
    },
    {
      "cell_type": "code",
      "execution_count": null,
      "metadata": {},
      "outputs": [],
      "source": [
        "#Model3.save('RNN_model.h5')"
      ]
    },
    {
      "cell_type": "code",
      "execution_count": null,
      "metadata": {},
      "outputs": [
        {
          "name": "stderr",
          "output_type": "stream",
          "text": [
            "WARNING:absl:Compiled the loaded model, but the compiled metrics have yet to be built. `model.compile_metrics` will be empty until you train or evaluate the model.\n"
          ]
        }
      ],
      "source": [
        "from tensorflow.keras.models import load_model\n",
        "\n",
        "loaded_model3 = load_model('RNN_model.h5')"
      ]
    },
    {
      "cell_type": "code",
      "execution_count": null,
      "metadata": {},
      "outputs": [
        {
          "name": "stdout",
          "output_type": "stream",
          "text": [
            "\u001b[1m56/56\u001b[0m \u001b[32m━━━━━━━━━━━━━━━━━━━━\u001b[0m\u001b[37m\u001b[0m \u001b[1m2s\u001b[0m 17ms/step\n"
          ]
        },
        {
          "data": {
            "image/png": "[encoded data removed]",
            "text/plain": [
              "<Figure size 1400x700 with 1 Axes>"
            ]
          },
          "metadata": {},
          "output_type": "display_data"
        },
        {
          "name": "stdout",
          "output_type": "stream",
          "text": [
            "Mean Squared Error (MSE):  3.286940891250584\n",
            "Root Mean Squared Error (RMSE):  1.8129922479841396\n",
            "Mean Absolute Error (MAE):  1.6755161055419425\n",
            "R2 Score:  0.9999912056936733\n"
          ]
        }
      ],
      "source": [
        "import matplotlib.pyplot as plt\n",
        "\n",
        "# Dự Đoán\n",
        "predictions = loaded_model3.predict(X)\n",
        "\n",
        "# Chuyển dữ liệu về ban đầu\n",
        "predictions = scaler.inverse_transform(predictions)\n",
        "y_actual = scaler.inverse_transform(y)\n",
        "\n",
        "# Vẽ biểu đồ\n",
        "plt.figure(figsize=(14, 7))\n",
        "plt.plot(df['Date'], y_actual, label='Actual', color='blue')\n",
        "plt.plot(df['Date'], predictions, label='Predicted', color='red')\n",
        "plt.xlabel('Date')\n",
        "plt.ylabel('Confirmed Cases')\n",
        "plt.title('Actual vs Predicted Stock By RNN')\n",
        "plt.legend()\n",
        "plt.show()\n",
        "\n",
        "# Đánh giá mô hình\n",
        "mse = mean_squared_error(y_actual, predictions)\n",
        "rmse = np.sqrt(mse)\n",
        "mae = mean_absolute_error(y_actual, predictions)\n",
        "r2 = r2_score(y_actual, predictions)\n",
        "\n",
        "# In kết quả đánh giá\n",
        "print(\"Mean Squared Error (MSE): \", mse)\n",
        "print(\"Root Mean Squared Error (RMSE): \", rmse)\n",
        "print(\"Mean Absolute Error (MAE): \", mae)\n",
        "print(\"R2 Score: \", r2)\n"
      ]
    },
    {
      "cell_type": "markdown",
      "metadata": {},
      "source": [
        "### Kết Luận"
      ]
    },
    {
      "cell_type": "markdown",
      "metadata": {},
      "source": [
        "\n",
        "| Model   | MSE      | MAE      | R2 Score | RMSE  |\n",
        "|---------|----------|----------|----------|--------|\n",
        "| LTSM | 112.66388042001495 | 5.379887753193098 | 0.9996985644983746 |10.614324303506793|\n",
        "| RNN | 3.286940891250584 | 1.6755161055419425 | 0.9999912056936733 |1.8129922479841396|\n"
      ]
    },
    {
      "cell_type": "markdown",
      "metadata": {},
      "source": [
        "- Về MSE: LSTM có xu hướng dự đoán sai lệch hơn so với mô hình RNN.\n",
        "- Về MAE: LSTM có xu hướng dự đoán sai lệch hơn so với mô hình RNN.\n",
        "- Về RMSE:  LSTM có khả năng giải thích dữ liệu tốt hơn mô hình RNN.\n",
        "- Về R2 Score:LSTM có xu hướng dự đoán sai lệch hơn so với mô hình RNN.\n",
        "\n",
        "\n",
        "Dựa trên ba chỉ số MSE, MAE và RMSE, có thể thấy rằng mô hình RNN có hiệu suất tốt hơn mô hình LSTM. \n",
        "Tuy nhiên, mô hình LSTM có giá trị R2 Score cao hơn, cho thấy khả năng giải thích dữ liệu tốt hơn."
      ]
    },
    {
      "cell_type": "markdown",
      "metadata": {},
      "source": []
    }
  ],
  "metadata": {
    "colab": {
      "provenance": []
    },
    "kernelspec": {
      "display_name": "Python 3",
      "name": "python3"
    },
    "language_info": {
      "codemirror_mode": {
        "name": "ipython",
        "version": 3
      },
      "file_extension": ".py",
      "mimetype": "text/x-python",
      "name": "python",
      "nbconvert_exporter": "python",
      "pygments_lexer": "ipython3",
      "version": "3.11.7"
    }
  },
  "nbformat": 4,
  "nbformat_minor": 0
}
